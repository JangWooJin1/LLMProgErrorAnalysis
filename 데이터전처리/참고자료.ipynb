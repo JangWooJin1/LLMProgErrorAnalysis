{
 "cells": [
  {
   "cell_type": "code",
   "execution_count": 1,
   "metadata": {},
   "outputs": [],
   "source": [
    "import openai\n",
    "import pandas as pd\n",
    "import matplotlib.pyplot as plt"
   ]
  },
  {
   "attachments": {},
   "cell_type": "markdown",
   "metadata": {},
   "source": [
    "gpt설정"
   ]
  },
  {
   "cell_type": "code",
   "execution_count": 66,
   "metadata": {},
   "outputs": [],
   "source": [
    "def question(query):\n",
    "\n",
    "    # FTA API\n",
    "    API_KEY = \"gptapi키\"\n",
    "    openai.api_key = API_KEY\n",
    "\n",
    "    model = \"gpt-3.5-turbo\"  \n",
    "\n",
    "    messages = [\n",
    "        {\"role\":\"system\", \"content\":\"You are a helpful assistant.\"},\n",
    "        {\"role\":\"user\",\"content\":query}\n",
    "    ]\n",
    "\n",
    "    response = openai.ChatCompletion.create(\n",
    "        temperature=0,\n",
    "        model=model,\n",
    "        messages = messages\n",
    "    )\n",
    "\n",
    "    answer = response['choices'][0]['message']['content']\n",
    "\n",
    "    return answer\n"
   ]
  },
  {
   "attachments": {},
   "cell_type": "markdown",
   "metadata": {},
   "source": [
    "multple input 예측"
   ]
  },
  {
   "cell_type": "code",
   "execution_count": 105,
   "metadata": {},
   "outputs": [
    {
     "name": "stdout",
     "output_type": "stream",
     "text": [
      "\n",
      "1. Question :\n",
      "The following dataframe represents the solution codes for each question.\n",
      "\n",
      "Your task is to classify the solution code for each question into binary categories according to the rules below:\n",
      "\n",
      "If there are multiple input variables, classify as 1, otherwise classify as 0.\n",
      "\n",
      "Example:\n",
      "scanf(\"%d %d\", &a, &b) -> 1 #2 input variables\n",
      "scanf(\"%d %d %d\", &n, &p, &q) -> 1 #3 input variables\n",
      "scanf(\"%d\", &a) -> 0 #1 input variables\n",
      "scanf(\"%lf, &n) -> 0 #1 input variables\n",
      "\n",
      "\n",
      "2. Answer : \n",
      "You only need to answer the classification results, and the format of the results is as shown in the list below. The list index matches each solution code.\n",
      "Example:\n",
      "result = [0, 1, ... ]\n",
      "\n",
      "The DataFrame contains the following data.\n",
      "\n",
      "0                                                                                        #include<cstdio>\\nint main(){\\nint a;\\nscanf(\"%d\", &a);\\nif (a<10){\\nprintf(\"hello\");\\n}\\n}\n",
      "1    #include <cstdio>\\nint main(){\\n    int a;\\n    scanf(\"%d\",&a);\\n    if(a<10)\\n    {\\n        printf(\"hello\");\\n    }\\n    else{\\n        printf(\"algo\");\\n    }\\n          \\n}\n",
      "2                                                               #include <cstdio>\\nint main()\\n{\\n    int a,b;\\n    scanf(\"%d %d\",&a,&b);\\n    printf(\"%d\",a-b+1);\\n    return 0;\\n}\n",
      "3           #include <cstdio>\\nint main()\\n{\\n    int a,b;\\n    scanf(\"%d %d\",&a,&b);\\n    if(a<=b){\\n        printf(\":(\");\\n    }\\n    else\\n    {\\n        printf(\":)\");\\n    }\\n}\n",
      "4         #include <cstdio>\\nint main()\\n{\\n    int a,b;\\n    scanf(\"%d %d\",&a,&b);\\n    if(a==b)\\n    {\\n        printf(\":)\");\\n    }\\n    else\\n    {\\n        printf(\":(\");\\n}\\n}\n"
     ]
    }
   ],
   "source": [
    "question_query = f\"\"\"\n",
    "1. Question :\n",
    "The following dataframe represents the solution codes for each question.\n",
    "\n",
    "Your task is to classify the solution code for each question into binary categories according to the rules below:\n",
    "\"\"\"\n",
    "\n",
    "rule_query = \"\"\"\n",
    "If there are multiple input variables, classify as 1, otherwise classify as 0.\n",
    "\n",
    "Example:\n",
    "scanf(\"%d %d\", &a, &b) -> 1 #2 input variables\n",
    "scanf(\"%d %d %d\", &n, &p, &q) -> 1 #3 input variables\n",
    "scanf(\"%d\", &a) -> 0 #1 input variables\n",
    "scanf(\"%lf, &n) -> 0 #1 input variables\n",
    "\n",
    "\"\"\"\n",
    "\n",
    "result_query = \"\"\"\n",
    "2. Answer : \n",
    "You only need to answer the classification results, and the format of the results is as shown in the list below. The list index matches each solution code.\n",
    "Example:\n",
    "result = [0, 1, ... ]\n",
    "\n",
    "\"\"\"\n",
    "\n",
    "context_query = \"The DataFrame contains the following data.\\n\\n\"  + query_df[:5].to_string()\n",
    "\n",
    "query1 = question_query  + rule_query + result_query + context_query\n",
    "\n",
    "print(query1)"
   ]
  },
  {
   "cell_type": "code",
   "execution_count": 106,
   "metadata": {},
   "outputs": [
    {
     "name": "stdout",
     "output_type": "stream",
     "text": [
      "result = [0, 0, 1, 1, 1]\n"
     ]
    }
   ],
   "source": [
    "ans1 = question(query1)\n",
    "print(ans1)"
   ]
  }
 ],
 "metadata": {
  "kernelspec": {
   "display_name": "Python 3",
   "language": "python",
   "name": "python3"
  },
  "language_info": {
   "codemirror_mode": {
    "name": "ipython",
    "version": 3
   },
   "file_extension": ".py",
   "mimetype": "text/x-python",
   "name": "python",
   "nbconvert_exporter": "python",
   "pygments_lexer": "ipython3",
   "version": "3.9.5"
  },
  "orig_nbformat": 4
 },
 "nbformat": 4,
 "nbformat_minor": 2
}
