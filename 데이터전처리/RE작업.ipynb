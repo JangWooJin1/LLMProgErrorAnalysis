{
 "cells": [
  {
   "cell_type": "code",
   "execution_count": 1,
   "metadata": {},
   "outputs": [],
   "source": [
    "import openai\n",
    "import pandas as pd\n",
    "import matplotlib.pyplot as plt"
   ]
  },
  {
   "cell_type": "code",
   "execution_count": 2,
   "metadata": {},
   "outputs": [],
   "source": [
    "def question(query):\n",
    "\n",
    "    # FTA API\n",
    "    API_KEY = \"\"\n",
    "    openai.api_key = API_KEY\n",
    "\n",
    "    model = \"gpt-3.5-turbo\"  \n",
    "\n",
    "    messages = [\n",
    "        {\"role\":\"system\", \"content\":\"You are a helpful assistant.\"},\n",
    "        {\"role\":\"user\",\"content\":query}\n",
    "    ]\n",
    "\n",
    "    response = openai.ChatCompletion.create(\n",
    "        temperature=0.8,\n",
    "        model=model,\n",
    "        messages = messages\n",
    "    )\n",
    "\n",
    "    answer = response['choices'][0]['message']['content']\n",
    "\n",
    "    return answer\n"
   ]
  },
  {
   "cell_type": "code",
   "execution_count": 7,
   "metadata": {},
   "outputs": [
    {
     "data": {
      "text/html": [
       "<div>\n",
       "<style scoped>\n",
       "    .dataframe tbody tr th:only-of-type {\n",
       "        vertical-align: middle;\n",
       "    }\n",
       "\n",
       "    .dataframe tbody tr th {\n",
       "        vertical-align: top;\n",
       "    }\n",
       "\n",
       "    .dataframe thead th {\n",
       "        text-align: right;\n",
       "    }\n",
       "</style>\n",
       "<table border=\"1\" class=\"dataframe\">\n",
       "  <thead>\n",
       "    <tr style=\"text-align: right;\">\n",
       "      <th></th>\n",
       "      <th>코드</th>\n",
       "    </tr>\n",
       "  </thead>\n",
       "  <tbody>\n",
       "    <tr>\n",
       "      <th>261</th>\n",
       "      <td>#include&lt;cstdio&gt;\\n\\nint main()\\n{\\n    double ...</td>\n",
       "    </tr>\n",
       "    <tr>\n",
       "      <th>563</th>\n",
       "      <td>#include &lt;cstdio&gt;\\n\\nint main()\\n{\\n    int a...</td>\n",
       "    </tr>\n",
       "    <tr>\n",
       "      <th>847</th>\n",
       "      <td>#include &lt;cstdio&gt;\\n\\nint main()\\n{\\n    int a;...</td>\n",
       "    </tr>\n",
       "    <tr>\n",
       "      <th>1325</th>\n",
       "      <td>#include &lt;cstdio&gt;\\n\\nint main()\\n{\\n    int a,...</td>\n",
       "    </tr>\n",
       "  </tbody>\n",
       "</table>\n",
       "</div>"
      ],
      "text/plain": [
       "                                                     코드\n",
       "261   #include<cstdio>\\n\\nint main()\\n{\\n    double ...\n",
       "563    #include <cstdio>\\n\\nint main()\\n{\\n    int a...\n",
       "847   #include <cstdio>\\n\\nint main()\\n{\\n    int a;...\n",
       "1325  #include <cstdio>\\n\\nint main()\\n{\\n    int a,..."
      ]
     },
     "execution_count": 7,
     "metadata": {},
     "output_type": "execute_result"
    }
   ],
   "source": [
    "df = pd.read_excel(\"2차결과.xlsx\") \n",
    "result_df = df\n",
    "\n",
    "df = df[df['정답 여부'] == 'RE']\n",
    "df = df.drop([\"학생명\", \"정답 여부\", \"문제 이름\", \"제출 시간\", \"오류 분류\", \"review\"], axis=1)\n",
    "\n",
    "df"
   ]
  },
  {
   "cell_type": "code",
   "execution_count": 10,
   "metadata": {},
   "outputs": [
    {
     "name": "stdout",
     "output_type": "stream",
     "text": [
      "\n",
      "1. Question :\n",
      "The following Dataframe represents the programming code of students issued by Runtime Error (RE).\n",
      "Your task is to write a code review of why an error occurred and categorize it.\n",
      "\n",
      "2. Answer : \n",
      "Please answer in the following example form. The list index matches each code.\n",
      "Example:\n",
      "Error = [\n",
      "        \"~~~~\",\n",
      "         ...\n",
      "        ]\n",
      "Categorization = [\n",
      "    \"~~~~\",\n",
      "    ...\n",
      "    ]\n",
      "\n",
      "The DataFrame contains the following data.\n",
      "\n",
      "                                                                                                                                                                                                                                                        코드\n",
      "                                               #include<cstdio>\\n\\nint main()\\n{\\n    double a,b;\\n    scanf(\"%lf %lf\",&a,&b);\\n    \\n    if(a<=b){\\n        printf(\":(\");\\n    }\\n    else{\\n        printf(\":)\");\\n    }\\n        \\n        return 0;\\n}\n",
      "                                                                                                                      #include <cstdio>\\n\\nint main()\\n{\\n    int a, b;\\n    scanf(\"%d %d \", &a, &b);\\n    \\n    printf(\"%d %d \", a, b);\\n    return 0;\\n}\n",
      "                                                                                                                                   #include <cstdio>\\n\\nint main()\\n{\\n    int a;\\n    scanf(\"%d\", r);\\n    printf(\"%d %d\", a, b);\\n    \\n    return 0;\\n}\n",
      "#include <cstdio>\\n\\nint main()\\n{\\n    int a, b;\\n    \\n    scanf(\"%d %d\", &a, &b);\\n    printf(\"%d+%d=%d\\n\", a,b,a+b);\\n    printf(\"%d-%d=%d\\n\", a,b,a-b);\\n    printf(\"%d*%d=%d\\n\", a,b,a*b);\\n    printf(\"%d/%d=%d\", a,b,a/b);\\n    \\n    return 0;\\n}\n"
     ]
    }
   ],
   "source": [
    "question_query = f\"\"\"\n",
    "1. Question :\n",
    "The following Dataframe represents the programming code of students issued by Runtime Error (RE).\n",
    "Your task is to write a code review of why an error occurred and categorize it.\n",
    "\"\"\"\n",
    "\n",
    "\n",
    "result_query = \"\"\"\n",
    "2. Answer : \n",
    "Please answer in the following example form. The list index matches each code.\n",
    "Example:\n",
    "Error = [\n",
    "        \"~~~~\",\n",
    "         ...\n",
    "        ]\n",
    "Categorization = [\n",
    "    \"~~~~\",\n",
    "    ...\n",
    "    ]\n",
    "\n",
    "\"\"\"\n",
    "\n",
    "context_query = \"The DataFrame contains the following data.\\n\\n\"  + df.to_string(index=False)\n",
    "\n",
    "query1_1 = question_query  + result_query + context_query\n",
    "\n",
    "print(query1_1)"
   ]
  },
  {
   "cell_type": "code",
   "execution_count": 15,
   "metadata": {},
   "outputs": [
    {
     "name": "stdout",
     "output_type": "stream",
     "text": [
      "Error = [\n",
      "    \"Error 1: The code is missing a semicolon (;) at the end of the printf statement in line 9.\",\n",
      "    \"Error 2: The variable 'r' is not declared before it is used in the scanf statement in line 6.\",\n",
      "    \"Error 3: The code is missing a semicolon (;) after the printf statement in line 4.\",\n",
      "]\n",
      "\n",
      "Categorization = [\n",
      "    \"Syntax Error\",\n",
      "    \"Undefined Variable\",\n",
      "    \"Syntax Error\",\n",
      "]\n"
     ]
    }
   ],
   "source": [
    "ans1_1 = question(query1_1)\n",
    "print(ans1_1)"
   ]
  }
 ],
 "metadata": {
  "kernelspec": {
   "display_name": "venv",
   "language": "python",
   "name": "python3"
  },
  "language_info": {
   "codemirror_mode": {
    "name": "ipython",
    "version": 3
   },
   "file_extension": ".py",
   "mimetype": "text/x-python",
   "name": "python",
   "nbconvert_exporter": "python",
   "pygments_lexer": "ipython3",
   "version": "3.9.5"
  },
  "orig_nbformat": 4
 },
 "nbformat": 4,
 "nbformat_minor": 2
}
