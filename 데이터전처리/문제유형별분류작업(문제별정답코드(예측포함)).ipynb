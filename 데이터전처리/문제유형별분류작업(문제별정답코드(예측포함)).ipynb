{
 "cells": [
  {
   "cell_type": "code",
   "execution_count": 1,
   "metadata": {},
   "outputs": [],
   "source": [
    "import openai\n",
    "import pandas as pd\n",
    "import matplotlib.pyplot as plt"
   ]
  },
  {
   "attachments": {},
   "cell_type": "markdown",
   "metadata": {},
   "source": [
    "gpt설정"
   ]
  },
  {
   "cell_type": "code",
   "execution_count": 66,
   "metadata": {},
   "outputs": [],
   "source": [
    "def question(query):\n",
    "\n",
    "    # FTA API\n",
    "    API_KEY = \"\"\n",
    "    openai.api_key = API_KEY\n",
    "\n",
    "    model = \"gpt-3.5-turbo\"  \n",
    "\n",
    "    messages = [\n",
    "        {\"role\":\"system\", \"content\":\"You are a helpful assistant.\"},\n",
    "        {\"role\":\"user\",\"content\":query}\n",
    "    ]\n",
    "\n",
    "    response = openai.ChatCompletion.create(\n",
    "        temperature=0,\n",
    "        model=model,\n",
    "        messages = messages\n",
    "    )\n",
    "\n",
    "    answer = response['choices'][0]['message']['content']\n",
    "\n",
    "    return answer\n"
   ]
  },
  {
   "cell_type": "code",
   "execution_count": 3,
   "metadata": {},
   "outputs": [
    {
     "data": {
      "text/html": [
       "<div>\n",
       "<style scoped>\n",
       "    .dataframe tbody tr th:only-of-type {\n",
       "        vertical-align: middle;\n",
       "    }\n",
       "\n",
       "    .dataframe tbody tr th {\n",
       "        vertical-align: top;\n",
       "    }\n",
       "\n",
       "    .dataframe thead th {\n",
       "        text-align: right;\n",
       "    }\n",
       "</style>\n",
       "<table border=\"1\" class=\"dataframe\">\n",
       "  <thead>\n",
       "    <tr style=\"text-align: right;\">\n",
       "      <th></th>\n",
       "      <th>문제 이름</th>\n",
       "      <th>정답 코드</th>\n",
       "      <th>multiple input</th>\n",
       "      <th>multiple output</th>\n",
       "      <th>conditional statement</th>\n",
       "      <th>mathematical calculation</th>\n",
       "      <th>prediction1</th>\n",
       "      <th>prediction2</th>\n",
       "      <th>prediction3</th>\n",
       "      <th>prediction4</th>\n",
       "    </tr>\n",
       "  </thead>\n",
       "  <tbody>\n",
       "    <tr>\n",
       "      <th>0</th>\n",
       "      <td>10보다작을까?-1</td>\n",
       "      <td>#include&lt;cstdio&gt;\\nint main(){\\nint a;\\nscanf(\"...</td>\n",
       "      <td>0</td>\n",
       "      <td>0</td>\n",
       "      <td>1</td>\n",
       "      <td>0</td>\n",
       "      <td>None</td>\n",
       "      <td>None</td>\n",
       "      <td>None</td>\n",
       "      <td>None</td>\n",
       "    </tr>\n",
       "    <tr>\n",
       "      <th>1</th>\n",
       "      <td>10보다작을까?-2</td>\n",
       "      <td>#include &lt;cstdio&gt;\\nint main(){\\n    int a;\\n  ...</td>\n",
       "      <td>0</td>\n",
       "      <td>0</td>\n",
       "      <td>1</td>\n",
       "      <td>0</td>\n",
       "      <td>None</td>\n",
       "      <td>None</td>\n",
       "      <td>None</td>\n",
       "      <td>None</td>\n",
       "    </tr>\n",
       "    <tr>\n",
       "      <th>2</th>\n",
       "      <td>내나이가어때서</td>\n",
       "      <td>#include &lt;cstdio&gt;\\nint main()\\n{\\n    int a,b;...</td>\n",
       "      <td>1</td>\n",
       "      <td>0</td>\n",
       "      <td>0</td>\n",
       "      <td>1</td>\n",
       "      <td>None</td>\n",
       "      <td>None</td>\n",
       "      <td>None</td>\n",
       "      <td>None</td>\n",
       "    </tr>\n",
       "    <tr>\n",
       "      <th>3</th>\n",
       "      <td>두수비교하기(&lt;=)</td>\n",
       "      <td>#include &lt;cstdio&gt;\\nint main()\\n{\\n    int a,b;...</td>\n",
       "      <td>1</td>\n",
       "      <td>0</td>\n",
       "      <td>1</td>\n",
       "      <td>0</td>\n",
       "      <td>None</td>\n",
       "      <td>None</td>\n",
       "      <td>None</td>\n",
       "      <td>None</td>\n",
       "    </tr>\n",
       "    <tr>\n",
       "      <th>4</th>\n",
       "      <td>두수비교하기(==)</td>\n",
       "      <td>#include &lt;cstdio&gt;\\nint main()\\n{\\n    int a,b;...</td>\n",
       "      <td>1</td>\n",
       "      <td>0</td>\n",
       "      <td>1</td>\n",
       "      <td>0</td>\n",
       "      <td>None</td>\n",
       "      <td>None</td>\n",
       "      <td>None</td>\n",
       "      <td>None</td>\n",
       "    </tr>\n",
       "    <tr>\n",
       "      <th>5</th>\n",
       "      <td>두정수바꾸어출력하기</td>\n",
       "      <td>#include &lt;cstdio&gt;\\n\\nint main()\\n{\\nint a,b;\\n...</td>\n",
       "      <td>1</td>\n",
       "      <td>1</td>\n",
       "      <td>0</td>\n",
       "      <td>0</td>\n",
       "      <td>None</td>\n",
       "      <td>None</td>\n",
       "      <td>None</td>\n",
       "      <td>None</td>\n",
       "    </tr>\n",
       "    <tr>\n",
       "      <th>6</th>\n",
       "      <td>두정수입력받기</td>\n",
       "      <td>#include &lt;cstdio&gt;\\n\\nint main()\\n{\\nint a,b;\\n...</td>\n",
       "      <td>1</td>\n",
       "      <td>1</td>\n",
       "      <td>0</td>\n",
       "      <td>0</td>\n",
       "      <td>None</td>\n",
       "      <td>None</td>\n",
       "      <td>None</td>\n",
       "      <td>None</td>\n",
       "    </tr>\n",
       "    <tr>\n",
       "      <th>7</th>\n",
       "      <td>반값이벤트</td>\n",
       "      <td>#include &lt;cstdio&gt;\\nint main()\\n{\\n    int a,b;...</td>\n",
       "      <td>1</td>\n",
       "      <td>0</td>\n",
       "      <td>0</td>\n",
       "      <td>1</td>\n",
       "      <td>None</td>\n",
       "      <td>None</td>\n",
       "      <td>None</td>\n",
       "      <td>None</td>\n",
       "    </tr>\n",
       "    <tr>\n",
       "      <th>8</th>\n",
       "      <td>사칙연산</td>\n",
       "      <td>#include &lt;cstdio&gt;\\n\\nint main()\\n{\\n    int a,...</td>\n",
       "      <td>1</td>\n",
       "      <td>1</td>\n",
       "      <td>0</td>\n",
       "      <td>1</td>\n",
       "      <td>None</td>\n",
       "      <td>None</td>\n",
       "      <td>None</td>\n",
       "      <td>None</td>\n",
       "    </tr>\n",
       "    <tr>\n",
       "      <th>9</th>\n",
       "      <td>시간단위로변환하기</td>\n",
       "      <td>#include &lt;cstdio&gt;\\nint main()\\n{\\n    int a;\\n...</td>\n",
       "      <td>0</td>\n",
       "      <td>0</td>\n",
       "      <td>0</td>\n",
       "      <td>1</td>\n",
       "      <td>None</td>\n",
       "      <td>None</td>\n",
       "      <td>None</td>\n",
       "      <td>None</td>\n",
       "    </tr>\n",
       "    <tr>\n",
       "      <th>10</th>\n",
       "      <td>원의넓이구하기</td>\n",
       "      <td>#include &lt;cstdio&gt;\\nint main()\\n{\\n    double r...</td>\n",
       "      <td>0</td>\n",
       "      <td>0</td>\n",
       "      <td>0</td>\n",
       "      <td>1</td>\n",
       "      <td>None</td>\n",
       "      <td>None</td>\n",
       "      <td>None</td>\n",
       "      <td>None</td>\n",
       "    </tr>\n",
       "    <tr>\n",
       "      <th>11</th>\n",
       "      <td>음수는0으로</td>\n",
       "      <td>#include &lt;cstdio&gt;\\nint main()\\n{\\n    int n;\\n...</td>\n",
       "      <td>0</td>\n",
       "      <td>0</td>\n",
       "      <td>1</td>\n",
       "      <td>0</td>\n",
       "      <td>None</td>\n",
       "      <td>None</td>\n",
       "      <td>None</td>\n",
       "      <td>None</td>\n",
       "    </tr>\n",
       "    <tr>\n",
       "      <th>12</th>\n",
       "      <td>정수한개입력받아부호바꿔출력하기</td>\n",
       "      <td>#include &lt;cstdio&gt;\\n\\nint main()\\n{\\nint a;\\n\\n...</td>\n",
       "      <td>0</td>\n",
       "      <td>0</td>\n",
       "      <td>0</td>\n",
       "      <td>1</td>\n",
       "      <td>None</td>\n",
       "      <td>None</td>\n",
       "      <td>None</td>\n",
       "      <td>None</td>\n",
       "    </tr>\n",
       "    <tr>\n",
       "      <th>13</th>\n",
       "      <td>초를분,초단위로변환하기</td>\n",
       "      <td>#include &lt;cstdio&gt;\\nint main()\\n{\\n    int a;\\n...</td>\n",
       "      <td>0</td>\n",
       "      <td>1</td>\n",
       "      <td>0</td>\n",
       "      <td>1</td>\n",
       "      <td>None</td>\n",
       "      <td>None</td>\n",
       "      <td>None</td>\n",
       "      <td>None</td>\n",
       "    </tr>\n",
       "  </tbody>\n",
       "</table>\n",
       "</div>"
      ],
      "text/plain": [
       "               문제 이름                                              정답 코드  \\\n",
       "0         10보다작을까?-1  #include<cstdio>\\nint main(){\\nint a;\\nscanf(\"...   \n",
       "1         10보다작을까?-2  #include <cstdio>\\nint main(){\\n    int a;\\n  ...   \n",
       "2            내나이가어때서  #include <cstdio>\\nint main()\\n{\\n    int a,b;...   \n",
       "3         두수비교하기(<=)  #include <cstdio>\\nint main()\\n{\\n    int a,b;...   \n",
       "4         두수비교하기(==)  #include <cstdio>\\nint main()\\n{\\n    int a,b;...   \n",
       "5         두정수바꾸어출력하기  #include <cstdio>\\n\\nint main()\\n{\\nint a,b;\\n...   \n",
       "6            두정수입력받기  #include <cstdio>\\n\\nint main()\\n{\\nint a,b;\\n...   \n",
       "7              반값이벤트  #include <cstdio>\\nint main()\\n{\\n    int a,b;...   \n",
       "8               사칙연산  #include <cstdio>\\n\\nint main()\\n{\\n    int a,...   \n",
       "9          시간단위로변환하기  #include <cstdio>\\nint main()\\n{\\n    int a;\\n...   \n",
       "10           원의넓이구하기  #include <cstdio>\\nint main()\\n{\\n    double r...   \n",
       "11            음수는0으로  #include <cstdio>\\nint main()\\n{\\n    int n;\\n...   \n",
       "12  정수한개입력받아부호바꿔출력하기  #include <cstdio>\\n\\nint main()\\n{\\nint a;\\n\\n...   \n",
       "13      초를분,초단위로변환하기  #include <cstdio>\\nint main()\\n{\\n    int a;\\n...   \n",
       "\n",
       "    multiple input  multiple output  conditional statement  \\\n",
       "0                0                0                      1   \n",
       "1                0                0                      1   \n",
       "2                1                0                      0   \n",
       "3                1                0                      1   \n",
       "4                1                0                      1   \n",
       "5                1                1                      0   \n",
       "6                1                1                      0   \n",
       "7                1                0                      0   \n",
       "8                1                1                      0   \n",
       "9                0                0                      0   \n",
       "10               0                0                      0   \n",
       "11               0                0                      1   \n",
       "12               0                0                      0   \n",
       "13               0                1                      0   \n",
       "\n",
       "    mathematical calculation prediction1 prediction2 prediction3 prediction4  \n",
       "0                          0        None        None        None        None  \n",
       "1                          0        None        None        None        None  \n",
       "2                          1        None        None        None        None  \n",
       "3                          0        None        None        None        None  \n",
       "4                          0        None        None        None        None  \n",
       "5                          0        None        None        None        None  \n",
       "6                          0        None        None        None        None  \n",
       "7                          1        None        None        None        None  \n",
       "8                          1        None        None        None        None  \n",
       "9                          1        None        None        None        None  \n",
       "10                         1        None        None        None        None  \n",
       "11                         0        None        None        None        None  \n",
       "12                         1        None        None        None        None  \n",
       "13                         1        None        None        None        None  "
      ]
     },
     "execution_count": 3,
     "metadata": {},
     "output_type": "execute_result"
    }
   ],
   "source": [
    "df = pd.read_excel(\"../문제별정답코드.xlsx\") \n",
    "df['prediction1'] = None\n",
    "df['prediction2'] = None\n",
    "df['prediction3'] = None\n",
    "df['prediction4'] = None\n",
    "df"
   ]
  },
  {
   "cell_type": "code",
   "execution_count": 6,
   "metadata": {},
   "outputs": [
    {
     "name": "stdout",
     "output_type": "stream",
     "text": [
      "0                                                                                                                                                       #include<cstdio>\\nint main(){\\nint a;\\nscanf(\"%d\", &a);\\nif (a<10){\\nprintf(\"hello\");\\n}\\n}\n",
      "1                                                                   #include <cstdio>\\nint main(){\\n    int a;\\n    scanf(\"%d\",&a);\\n    if(a<10)\\n    {\\n        printf(\"hello\");\\n    }\\n    else{\\n        printf(\"algo\");\\n    }\\n          \\n}\n",
      "2                                                                                                                              #include <cstdio>\\nint main()\\n{\\n    int a,b;\\n    scanf(\"%d %d\",&a,&b);\\n    printf(\"%d\",a-b+1);\\n    return 0;\\n}\n",
      "3                                                                          #include <cstdio>\\nint main()\\n{\\n    int a,b;\\n    scanf(\"%d %d\",&a,&b);\\n    if(a<=b){\\n        printf(\":(\");\\n    }\\n    else\\n    {\\n        printf(\":)\");\\n    }\\n}\n",
      "4                                                                        #include <cstdio>\\nint main()\\n{\\n    int a,b;\\n    scanf(\"%d %d\",&a,&b);\\n    if(a==b)\\n    {\\n        printf(\":)\");\\n    }\\n    else\\n    {\\n        printf(\":(\");\\n}\\n}\n",
      "5                                                                                                                                     #include <cstdio>\\n\\nint main()\\n{\\nint a,b;\\n\\nscanf(\"%d %d\", &a,&b);\\nprintf(\"%d %d\", b,a);\\n\\nreturn 0;\\n}\n",
      "6                                                                                                                                     #include <cstdio>\\n\\nint main()\\n{\\nint a,b;\\n\\nscanf(\"%d %d\", &a,&b);\\nprintf(\"%d %d\", a,b);\\n\\nreturn 0;\\n}\n",
      "7                                                                                                                              #include <cstdio>\\nint main()\\n{\\n    int a,b;\\n    scanf(\"%d %d\",&a,&b);\\n    printf(\"%d\",a+b/2);\\n    return 0;\\n}\n",
      "8     #include <cstdio>\\n\\nint main()\\n{\\n    int a,b;\\n    scanf(\"%d %d\",&a,&b);\\n    printf(\"%d+%d=%d \\n\",a,b,a+b);\\n    printf(\"%d-%d=%d \\n\",a,b,a-b);\\n    printf(\"%d*%d=%d \\n\",a,b,a*b);\\n    printf(\"%d/%d=%d \\n\",a,b,a/b);\\n    return 0;\\n}\n",
      "9                                                                                                                                       #include <cstdio>\\nint main()\\n{\\n    int a;\\n    scanf(\"%d\",&a);\\n    printf(\"%d\",a*24);\\n    return 0;\\n}\n",
      "10                                                                                                                      #include <cstdio>\\nint main()\\n{\\n    double r;\\n    scanf(\"%lf\",&r);\\n    printf(\"%.2f\",r*r*3.14);\\n    return 0;\\n    \\n}\n",
      "11                                                                     #include <cstdio>\\nint main()\\n{\\n    int n;\\n    scanf(\"%d\",&n);\\n    if(n<0)\\n    {\\n        printf(\"0\");\\n    }\\n    else{\\n        printf(\"%d\",n);\\n    }\\n    \\n    \\n}\n",
      "12                                                                                                                                                #include <cstdio>\\n\\nint main()\\n{\\nint a;\\n\\nscanf(\"%d\", &a);\\nprintf(\"%d\", -a);\\n\\nreturn 0;\\n}\n",
      "13                                                                                                                              #include <cstdio>\\nint main()\\n{\\n    int a;\\n    scanf(\"%d\",&a);\\n    printf(\"%d %d\",a/60,a%60);\\n    return 0;\\n}\n",
      "Name: 정답 코드, dtype: object\n"
     ]
    }
   ],
   "source": [
    "pd.set_option('display.max_colwidth', None)\n",
    "query_df = df[\"정답 코드\"]\n",
    "print(query_df)"
   ]
  },
  {
   "attachments": {},
   "cell_type": "markdown",
   "metadata": {},
   "source": [
    "multple input 예측"
   ]
  },
  {
   "cell_type": "code",
   "execution_count": 105,
   "metadata": {},
   "outputs": [
    {
     "name": "stdout",
     "output_type": "stream",
     "text": [
      "\n",
      "1. Question :\n",
      "The following dataframe represents the solution codes for each question.\n",
      "\n",
      "Your task is to classify the solution code for each question into binary categories according to the rules below:\n",
      "\n",
      "If there are multiple input variables, classify as 1, otherwise classify as 0.\n",
      "\n",
      "Example:\n",
      "scanf(\"%d %d\", &a, &b) -> 1 #2 input variables\n",
      "scanf(\"%d %d %d\", &n, &p, &q) -> 1 #3 input variables\n",
      "scanf(\"%d\", &a) -> 0 #1 input variables\n",
      "scanf(\"%lf, &n) -> 0 #1 input variables\n",
      "\n",
      "\n",
      "2. Answer : \n",
      "You only need to answer the classification results, and the format of the results is as shown in the list below. The list index matches each solution code.\n",
      "Example:\n",
      "result = [0, 1, ... ]\n",
      "\n",
      "The DataFrame contains the following data.\n",
      "\n",
      "0                                                                                        #include<cstdio>\\nint main(){\\nint a;\\nscanf(\"%d\", &a);\\nif (a<10){\\nprintf(\"hello\");\\n}\\n}\n",
      "1    #include <cstdio>\\nint main(){\\n    int a;\\n    scanf(\"%d\",&a);\\n    if(a<10)\\n    {\\n        printf(\"hello\");\\n    }\\n    else{\\n        printf(\"algo\");\\n    }\\n          \\n}\n",
      "2                                                               #include <cstdio>\\nint main()\\n{\\n    int a,b;\\n    scanf(\"%d %d\",&a,&b);\\n    printf(\"%d\",a-b+1);\\n    return 0;\\n}\n",
      "3           #include <cstdio>\\nint main()\\n{\\n    int a,b;\\n    scanf(\"%d %d\",&a,&b);\\n    if(a<=b){\\n        printf(\":(\");\\n    }\\n    else\\n    {\\n        printf(\":)\");\\n    }\\n}\n",
      "4         #include <cstdio>\\nint main()\\n{\\n    int a,b;\\n    scanf(\"%d %d\",&a,&b);\\n    if(a==b)\\n    {\\n        printf(\":)\");\\n    }\\n    else\\n    {\\n        printf(\":(\");\\n}\\n}\n"
     ]
    }
   ],
   "source": [
    "question_query = f\"\"\"\n",
    "1. Question :\n",
    "The following dataframe represents the solution codes for each question.\n",
    "\n",
    "Your task is to classify the solution code for each question into binary categories according to the rules below:\n",
    "\"\"\"\n",
    "\n",
    "rule_query = \"\"\"\n",
    "If there are multiple input variables, classify as 1, otherwise classify as 0.\n",
    "\n",
    "Example:\n",
    "scanf(\"%d %d\", &a, &b) -> 1 #2 input variables\n",
    "scanf(\"%d %d %d\", &n, &p, &q) -> 1 #3 input variables\n",
    "scanf(\"%d\", &a) -> 0 #1 input variables\n",
    "scanf(\"%lf, &n) -> 0 #1 input variables\n",
    "\n",
    "\"\"\"\n",
    "\n",
    "result_query = \"\"\"\n",
    "2. Answer : \n",
    "You only need to answer the classification results, and the format of the results is as shown in the list below. The list index matches each solution code.\n",
    "Example:\n",
    "result = [0, 1, ... ]\n",
    "\n",
    "\"\"\"\n",
    "\n",
    "context_query = \"The DataFrame contains the following data.\\n\\n\"  + query_df[:5].to_string()\n",
    "\n",
    "query1 = question_query  + rule_query + result_query + context_query\n",
    "\n",
    "print(query1)"
   ]
  },
  {
   "cell_type": "code",
   "execution_count": 106,
   "metadata": {},
   "outputs": [
    {
     "name": "stdout",
     "output_type": "stream",
     "text": [
      "result = [0, 0, 1, 1, 1]\n"
     ]
    }
   ],
   "source": [
    "ans1 = question(query1)\n",
    "print(ans1)"
   ]
  },
  {
   "cell_type": "code",
   "execution_count": 89,
   "metadata": {},
   "outputs": [
    {
     "name": "stderr",
     "output_type": "stream",
     "text": [
      "C:\\Users\\장우진\\AppData\\Local\\Temp\\ipykernel_30660\\165530584.py:3: SettingWithCopyWarning: \n",
      "A value is trying to be set on a copy of a slice from a DataFrame\n",
      "\n",
      "See the caveats in the documentation: https://pandas.pydata.org/pandas-docs/stable/user_guide/indexing.html#returning-a-view-versus-a-copy\n",
      "  df.loc[ : ,'prediction1'][:5] = result\n"
     ]
    },
    {
     "data": {
      "text/html": [
       "<div>\n",
       "<style scoped>\n",
       "    .dataframe tbody tr th:only-of-type {\n",
       "        vertical-align: middle;\n",
       "    }\n",
       "\n",
       "    .dataframe tbody tr th {\n",
       "        vertical-align: top;\n",
       "    }\n",
       "\n",
       "    .dataframe thead th {\n",
       "        text-align: right;\n",
       "    }\n",
       "</style>\n",
       "<table border=\"1\" class=\"dataframe\">\n",
       "  <thead>\n",
       "    <tr style=\"text-align: right;\">\n",
       "      <th></th>\n",
       "      <th>문제 이름</th>\n",
       "      <th>multiple input</th>\n",
       "      <th>prediction1</th>\n",
       "    </tr>\n",
       "  </thead>\n",
       "  <tbody>\n",
       "    <tr>\n",
       "      <th>0</th>\n",
       "      <td>10보다작을까?-1</td>\n",
       "      <td>0</td>\n",
       "      <td>0</td>\n",
       "    </tr>\n",
       "    <tr>\n",
       "      <th>1</th>\n",
       "      <td>10보다작을까?-2</td>\n",
       "      <td>0</td>\n",
       "      <td>0</td>\n",
       "    </tr>\n",
       "    <tr>\n",
       "      <th>2</th>\n",
       "      <td>내나이가어때서</td>\n",
       "      <td>1</td>\n",
       "      <td>1</td>\n",
       "    </tr>\n",
       "    <tr>\n",
       "      <th>3</th>\n",
       "      <td>두수비교하기(&lt;=)</td>\n",
       "      <td>1</td>\n",
       "      <td>1</td>\n",
       "    </tr>\n",
       "    <tr>\n",
       "      <th>4</th>\n",
       "      <td>두수비교하기(==)</td>\n",
       "      <td>1</td>\n",
       "      <td>1</td>\n",
       "    </tr>\n",
       "  </tbody>\n",
       "</table>\n",
       "</div>"
      ],
      "text/plain": [
       "        문제 이름  multiple input prediction1\n",
       "0  10보다작을까?-1               0           0\n",
       "1  10보다작을까?-2               0           0\n",
       "2     내나이가어때서               1           1\n",
       "3  두수비교하기(<=)               1           1\n",
       "4  두수비교하기(==)               1           1"
      ]
     },
     "execution_count": 89,
     "metadata": {},
     "output_type": "execute_result"
    }
   ],
   "source": [
    "result = [0, 0, 1, 1, 1]\n",
    "\n",
    "df.loc[ : ,'prediction1'][:5] = result\n",
    "\n",
    "df.loc[:, [\"문제 이름\", \"multiple input\", \"prediction1\"]][:5]"
   ]
  },
  {
   "cell_type": "code",
   "execution_count": 110,
   "metadata": {},
   "outputs": [
    {
     "name": "stdout",
     "output_type": "stream",
     "text": [
      "The classification results for each solution code are as follows:\n",
      "\n",
      "result = [1, 1, 1, 1, 0]\n"
     ]
    }
   ],
   "source": [
    "context_query = \"The DataFrame contains the following data.\\n\\n\"  + query_df[5:10].to_string()\n",
    "\n",
    "query2 = question_query  + rule_query + result_query + context_query\n",
    "\n",
    "ans2 = question(query2)\n",
    "print(ans2)"
   ]
  },
  {
   "cell_type": "code",
   "execution_count": 111,
   "metadata": {},
   "outputs": [
    {
     "name": "stderr",
     "output_type": "stream",
     "text": [
      "C:\\Users\\장우진\\AppData\\Local\\Temp\\ipykernel_30660\\1028304187.py:4: SettingWithCopyWarning: \n",
      "A value is trying to be set on a copy of a slice from a DataFrame\n",
      "\n",
      "See the caveats in the documentation: https://pandas.pydata.org/pandas-docs/stable/user_guide/indexing.html#returning-a-view-versus-a-copy\n",
      "  df.loc[ : ,'prediction1'][5:10] = result\n"
     ]
    },
    {
     "data": {
      "text/html": [
       "<div>\n",
       "<style scoped>\n",
       "    .dataframe tbody tr th:only-of-type {\n",
       "        vertical-align: middle;\n",
       "    }\n",
       "\n",
       "    .dataframe tbody tr th {\n",
       "        vertical-align: top;\n",
       "    }\n",
       "\n",
       "    .dataframe thead th {\n",
       "        text-align: right;\n",
       "    }\n",
       "</style>\n",
       "<table border=\"1\" class=\"dataframe\">\n",
       "  <thead>\n",
       "    <tr style=\"text-align: right;\">\n",
       "      <th></th>\n",
       "      <th>문제 이름</th>\n",
       "      <th>multiple input</th>\n",
       "      <th>prediction1</th>\n",
       "    </tr>\n",
       "  </thead>\n",
       "  <tbody>\n",
       "    <tr>\n",
       "      <th>5</th>\n",
       "      <td>두정수바꾸어출력하기</td>\n",
       "      <td>1</td>\n",
       "      <td>1</td>\n",
       "    </tr>\n",
       "    <tr>\n",
       "      <th>6</th>\n",
       "      <td>두정수입력받기</td>\n",
       "      <td>1</td>\n",
       "      <td>1</td>\n",
       "    </tr>\n",
       "    <tr>\n",
       "      <th>7</th>\n",
       "      <td>반값이벤트</td>\n",
       "      <td>1</td>\n",
       "      <td>1</td>\n",
       "    </tr>\n",
       "    <tr>\n",
       "      <th>8</th>\n",
       "      <td>사칙연산</td>\n",
       "      <td>1</td>\n",
       "      <td>1</td>\n",
       "    </tr>\n",
       "    <tr>\n",
       "      <th>9</th>\n",
       "      <td>시간단위로변환하기</td>\n",
       "      <td>0</td>\n",
       "      <td>0</td>\n",
       "    </tr>\n",
       "  </tbody>\n",
       "</table>\n",
       "</div>"
      ],
      "text/plain": [
       "        문제 이름  multiple input prediction1\n",
       "5  두정수바꾸어출력하기               1           1\n",
       "6     두정수입력받기               1           1\n",
       "7       반값이벤트               1           1\n",
       "8        사칙연산               1           1\n",
       "9   시간단위로변환하기               0           0"
      ]
     },
     "execution_count": 111,
     "metadata": {},
     "output_type": "execute_result"
    }
   ],
   "source": [
    "result = [1, 1, 1, 1, 0]\n",
    "\n",
    "\n",
    "df.loc[ : ,'prediction1'][5:10] = result\n",
    "\n",
    "df.loc[:, [\"문제 이름\", \"multiple input\", \"prediction1\"]][5:10]"
   ]
  },
  {
   "cell_type": "code",
   "execution_count": 113,
   "metadata": {},
   "outputs": [
    {
     "name": "stdout",
     "output_type": "stream",
     "text": [
      "To classify the solution code for each question into binary categories, we can use the following approach:\n",
      "\n",
      "1. Iterate through each solution code in the DataFrame.\n",
      "2. Count the number of occurrences of the pattern \"scanf(\"%\" followed by a variable type and a space.\n",
      "3. If the count is greater than 1, classify the solution code as 1 (multiple input variables), otherwise classify it as 0 (single input variable).\n",
      "4. Store the classification result in a list.\n",
      "\n",
      "Here's the code to perform the classification:\n",
      "\n",
      "```python\n",
      "import re\n",
      "\n",
      "def classify_solution_codes(df):\n",
      "    result = []\n",
      "    \n",
      "    for code in df['solution_code']:\n",
      "        count = len(re.findall(r'scanf\\(\"%[a-z]', code))\n",
      "        if count > 1:\n",
      "            result.append(1)\n",
      "        else:\n",
      "            result.append(0)\n",
      "    \n",
      "    return result\n",
      "\n",
      "# Usage\n",
      "df = ...  # Your DataFrame containing the solution codes\n",
      "classification_result = classify_solution_codes(df)\n",
      "print(classification_result)\n",
      "```\n",
      "\n",
      "The `classification_result` list will contain the binary classification results for each solution code in the DataFrame.\n"
     ]
    }
   ],
   "source": [
    "context_query = \"The DataFrame contains the following data.\\n\\n\"  + query_df[10:].to_string()\n",
    "\n",
    "query3 = question_query  + rule_query + result_query + context_query\n",
    "\n",
    "ans3 = question(query3)\n",
    "print(ans3)"
   ]
  },
  {
   "cell_type": "code",
   "execution_count": 91,
   "metadata": {},
   "outputs": [
    {
     "name": "stderr",
     "output_type": "stream",
     "text": [
      "C:\\Users\\장우진\\AppData\\Local\\Temp\\ipykernel_30660\\248642269.py:3: SettingWithCopyWarning: \n",
      "A value is trying to be set on a copy of a slice from a DataFrame\n",
      "\n",
      "See the caveats in the documentation: https://pandas.pydata.org/pandas-docs/stable/user_guide/indexing.html#returning-a-view-versus-a-copy\n",
      "  df.loc[ : ,'prediction1'][10:] = result\n"
     ]
    },
    {
     "data": {
      "text/html": [
       "<div>\n",
       "<style scoped>\n",
       "    .dataframe tbody tr th:only-of-type {\n",
       "        vertical-align: middle;\n",
       "    }\n",
       "\n",
       "    .dataframe tbody tr th {\n",
       "        vertical-align: top;\n",
       "    }\n",
       "\n",
       "    .dataframe thead th {\n",
       "        text-align: right;\n",
       "    }\n",
       "</style>\n",
       "<table border=\"1\" class=\"dataframe\">\n",
       "  <thead>\n",
       "    <tr style=\"text-align: right;\">\n",
       "      <th></th>\n",
       "      <th>문제 이름</th>\n",
       "      <th>multiple input</th>\n",
       "      <th>prediction1</th>\n",
       "    </tr>\n",
       "  </thead>\n",
       "  <tbody>\n",
       "    <tr>\n",
       "      <th>10</th>\n",
       "      <td>원의넓이구하기</td>\n",
       "      <td>0</td>\n",
       "      <td>0</td>\n",
       "    </tr>\n",
       "    <tr>\n",
       "      <th>11</th>\n",
       "      <td>음수는0으로</td>\n",
       "      <td>0</td>\n",
       "      <td>0</td>\n",
       "    </tr>\n",
       "    <tr>\n",
       "      <th>12</th>\n",
       "      <td>정수한개입력받아부호바꿔출력하기</td>\n",
       "      <td>0</td>\n",
       "      <td>0</td>\n",
       "    </tr>\n",
       "    <tr>\n",
       "      <th>13</th>\n",
       "      <td>초를분,초단위로변환하기</td>\n",
       "      <td>0</td>\n",
       "      <td>1</td>\n",
       "    </tr>\n",
       "  </tbody>\n",
       "</table>\n",
       "</div>"
      ],
      "text/plain": [
       "               문제 이름  multiple input prediction1\n",
       "10           원의넓이구하기               0           0\n",
       "11            음수는0으로               0           0\n",
       "12  정수한개입력받아부호바꿔출력하기               0           0\n",
       "13      초를분,초단위로변환하기               0           1"
      ]
     },
     "execution_count": 91,
     "metadata": {},
     "output_type": "execute_result"
    }
   ],
   "source": [
    "result = [0, 0, 0, 1]\n",
    "\n",
    "df.loc[ : ,'prediction1'][10:] = result\n",
    "\n",
    "df.loc[:, [\"문제 이름\", \"multiple input\", \"prediction1\"]][10:]"
   ]
  },
  {
   "attachments": {},
   "cell_type": "markdown",
   "metadata": {},
   "source": [
    "multiple output 예측"
   ]
  },
  {
   "cell_type": "code",
   "execution_count": 31,
   "metadata": {},
   "outputs": [
    {
     "name": "stdout",
     "output_type": "stream",
     "text": [
      "\n",
      "1. Question :\n",
      "The following dataframe represents the solution codes for each question.\n",
      "\n",
      "Your task is to classify the solution code for each question into binary categories according to the rules below:\n",
      "\n",
      "If there are multiple output variables, classify as 1, otherwise classify as 0.\n",
      "\n",
      "Example:\n",
      "1. printf(\"jang\") -> 0 #Output a single string\n",
      "2. printf(\"%d\", a) -> 0 #Output 1 variable.\n",
      "3. printf(\"%lf\", a+b+5) -> 0 #Output 1 variable.\n",
      "4. if (a>1){ printf(\"%d\", &a) } else{ printf(\"sdf\") } -> 0 #Output 1 variable.\n",
      "5. printf(\"%d %d\", a,b) -> 1 #Output 2 variable.\n",
      "6. printf(\"%d %lf\", q,r) -> 1 #Output 2 variable.\n",
      "7. printf(\"%d %lf %d\", q,r, q*r+2) -> 1 #Output 3 variable.\n",
      "\n",
      "\n",
      "2. Answer : \n",
      "Please answer in the following example form. The list index matches each solution code.\n",
      "Example:\n",
      "result = [0, 1, ... ]\n",
      "\n",
      "The DataFrame contains the following data.\n",
      "\n",
      "0                                                                                        #include<cstdio>\\nint main(){\\nint a;\\nscanf(\"%d\", &a);\\nif (a<10){\\nprintf(\"hello\");\\n}\\n}\n",
      "1    #include <cstdio>\\nint main(){\\n    int a;\\n    scanf(\"%d\",&a);\\n    if(a<10)\\n    {\\n        printf(\"hello\");\\n    }\\n    else{\\n        printf(\"algo\");\\n    }\\n          \\n}\n",
      "2                                                               #include <cstdio>\\nint main()\\n{\\n    int a,b;\\n    scanf(\"%d %d\",&a,&b);\\n    printf(\"%d\",a-b+1);\\n    return 0;\\n}\n",
      "3           #include <cstdio>\\nint main()\\n{\\n    int a,b;\\n    scanf(\"%d %d\",&a,&b);\\n    if(a<=b){\\n        printf(\":(\");\\n    }\\n    else\\n    {\\n        printf(\":)\");\\n    }\\n}\n",
      "4         #include <cstdio>\\nint main()\\n{\\n    int a,b;\\n    scanf(\"%d %d\",&a,&b);\\n    if(a==b)\\n    {\\n        printf(\":)\");\\n    }\\n    else\\n    {\\n        printf(\":(\");\\n}\\n}\n"
     ]
    }
   ],
   "source": [
    "rule_query = \"\"\"\n",
    "If there are multiple output variables, classify as 1, otherwise classify as 0.\n",
    "\n",
    "Example:\n",
    "1. printf(\"jang\") -> 0 #Output a single string\n",
    "2. printf(\"%d\", a) -> 0 #Output 1 variable.\n",
    "3. printf(\"%lf\", a+b+5) -> 0 #Output 1 variable.\n",
    "4. if (a>1){ printf(\"%d\", &a) } else{ printf(\"sdf\") } -> 0 #Output 1 variable.\n",
    "5. printf(\"%d %d\", a,b) -> 1 #Output 2 variable.\n",
    "6. printf(\"%d %lf\", q,r) -> 1 #Output 2 variable.\n",
    "7. printf(\"%d %lf %d\", q,r, q*r+2) -> 1 #Output 3 variable.\n",
    "\n",
    "\"\"\"\n",
    "\n",
    "context_query = \"The DataFrame contains the following data.\\n\\n\"  + query_df[:5].to_string()\n",
    "\n",
    "query4 = question_query  + rule_query + result_query + context_query\n",
    "\n",
    "print(query4)"
   ]
  },
  {
   "cell_type": "code",
   "execution_count": 92,
   "metadata": {},
   "outputs": [
    {
     "name": "stdout",
     "output_type": "stream",
     "text": [
      "result = [0, 0, 0, 0, 0]\n"
     ]
    }
   ],
   "source": [
    "ans4 = question(query4)\n",
    "print(ans4)"
   ]
  },
  {
   "cell_type": "code",
   "execution_count": 93,
   "metadata": {},
   "outputs": [
    {
     "name": "stderr",
     "output_type": "stream",
     "text": [
      "C:\\Users\\장우진\\AppData\\Local\\Temp\\ipykernel_30660\\3089369737.py:3: SettingWithCopyWarning: \n",
      "A value is trying to be set on a copy of a slice from a DataFrame\n",
      "\n",
      "See the caveats in the documentation: https://pandas.pydata.org/pandas-docs/stable/user_guide/indexing.html#returning-a-view-versus-a-copy\n",
      "  df.loc[ : ,'prediction2'][:5] = result\n"
     ]
    },
    {
     "data": {
      "text/html": [
       "<div>\n",
       "<style scoped>\n",
       "    .dataframe tbody tr th:only-of-type {\n",
       "        vertical-align: middle;\n",
       "    }\n",
       "\n",
       "    .dataframe tbody tr th {\n",
       "        vertical-align: top;\n",
       "    }\n",
       "\n",
       "    .dataframe thead th {\n",
       "        text-align: right;\n",
       "    }\n",
       "</style>\n",
       "<table border=\"1\" class=\"dataframe\">\n",
       "  <thead>\n",
       "    <tr style=\"text-align: right;\">\n",
       "      <th></th>\n",
       "      <th>문제 이름</th>\n",
       "      <th>multiple output</th>\n",
       "      <th>prediction2</th>\n",
       "    </tr>\n",
       "  </thead>\n",
       "  <tbody>\n",
       "    <tr>\n",
       "      <th>0</th>\n",
       "      <td>10보다작을까?-1</td>\n",
       "      <td>0</td>\n",
       "      <td>0</td>\n",
       "    </tr>\n",
       "    <tr>\n",
       "      <th>1</th>\n",
       "      <td>10보다작을까?-2</td>\n",
       "      <td>0</td>\n",
       "      <td>0</td>\n",
       "    </tr>\n",
       "    <tr>\n",
       "      <th>2</th>\n",
       "      <td>내나이가어때서</td>\n",
       "      <td>0</td>\n",
       "      <td>0</td>\n",
       "    </tr>\n",
       "    <tr>\n",
       "      <th>3</th>\n",
       "      <td>두수비교하기(&lt;=)</td>\n",
       "      <td>0</td>\n",
       "      <td>0</td>\n",
       "    </tr>\n",
       "    <tr>\n",
       "      <th>4</th>\n",
       "      <td>두수비교하기(==)</td>\n",
       "      <td>0</td>\n",
       "      <td>0</td>\n",
       "    </tr>\n",
       "  </tbody>\n",
       "</table>\n",
       "</div>"
      ],
      "text/plain": [
       "        문제 이름  multiple output prediction2\n",
       "0  10보다작을까?-1                0           0\n",
       "1  10보다작을까?-2                0           0\n",
       "2     내나이가어때서                0           0\n",
       "3  두수비교하기(<=)                0           0\n",
       "4  두수비교하기(==)                0           0"
      ]
     },
     "execution_count": 93,
     "metadata": {},
     "output_type": "execute_result"
    }
   ],
   "source": [
    "result = [0, 0, 0, 0, 0]\n",
    "\n",
    "df.loc[ : ,'prediction2'][:5] = result\n",
    "\n",
    "df.loc[:, [\"문제 이름\", \"multiple output\", \"prediction2\"]][:5]"
   ]
  },
  {
   "cell_type": "code",
   "execution_count": 40,
   "metadata": {},
   "outputs": [
    {
     "name": "stdout",
     "output_type": "stream",
     "text": [
      "Based on the given rules, we can classify the solution codes as follows:\n",
      "\n",
      "1. #include <cstdio>\\n\\nint main()\\n{\\nint a,b;\\n\\nscanf(\"%d %d\", &a,&b);\\nprintf(\"%d %d\", b,a);\\n\\nreturn 0;\\n} -> 1\n",
      "2. #include <cstdio>\\n\\nint main()\\n{\\nint a,b;\\n\\nscanf(\"%d %d\", &a,&b);\\nprintf(\"%d %d\", a,b);\\n\\nreturn 0;\\n} -> 1\n",
      "3. #include <cstdio>\\nint main()\\n{\\n    int a,b;\\n    scanf(\"%d %d\",&a,&b);\\n    printf(\"%d\",a+b/2);\\n    return 0;\\n} -> 0\n",
      "4. #include <cstdio>\\n\\nint main()\\n{\\n    int a,b;\\n    scanf(\"%d %d\",&a,&b);\\n    printf(\"%d+%d=%d \\n\",a,b,a+b);\\n    printf(\"%d-%d=%d \\n\",a,b,a-b);\\n    printf(\"%d*%d=%d \\n\",a,b,a*b);\\n    printf(\"%d/%d=%d \\n\",a,b,a/b);\\n    return 0;\\n} -> 1\n",
      "5. #include <cstdio>\\nint main()\\n{\\n    int a;\\n    scanf(\"%d\",&a);\\n    printf(\"%d\",a*24);\\n    return 0;\\n} -> 0\n",
      "\n",
      "Therefore, the classification of the solution codes is:\n",
      "\n",
      "result = [1, 1, 0, 1, 0]\n"
     ]
    }
   ],
   "source": [
    "context_query = \"The DataFrame contains the following data. five codes \\n\\n\\n\"  + query_df[5:10].to_string(index=False)\n",
    "\n",
    "query5 = question_query  + rule_query + result_query + context_query\n",
    "\n",
    "ans5 = question(query5)\n",
    "print(ans5)"
   ]
  },
  {
   "cell_type": "code",
   "execution_count": 94,
   "metadata": {},
   "outputs": [
    {
     "name": "stderr",
     "output_type": "stream",
     "text": [
      "C:\\Users\\장우진\\AppData\\Local\\Temp\\ipykernel_30660\\3561994701.py:3: SettingWithCopyWarning: \n",
      "A value is trying to be set on a copy of a slice from a DataFrame\n",
      "\n",
      "See the caveats in the documentation: https://pandas.pydata.org/pandas-docs/stable/user_guide/indexing.html#returning-a-view-versus-a-copy\n",
      "  df.loc[ : ,'prediction2'][5:10] = result\n"
     ]
    },
    {
     "data": {
      "text/html": [
       "<div>\n",
       "<style scoped>\n",
       "    .dataframe tbody tr th:only-of-type {\n",
       "        vertical-align: middle;\n",
       "    }\n",
       "\n",
       "    .dataframe tbody tr th {\n",
       "        vertical-align: top;\n",
       "    }\n",
       "\n",
       "    .dataframe thead th {\n",
       "        text-align: right;\n",
       "    }\n",
       "</style>\n",
       "<table border=\"1\" class=\"dataframe\">\n",
       "  <thead>\n",
       "    <tr style=\"text-align: right;\">\n",
       "      <th></th>\n",
       "      <th>문제 이름</th>\n",
       "      <th>multiple output</th>\n",
       "      <th>prediction2</th>\n",
       "    </tr>\n",
       "  </thead>\n",
       "  <tbody>\n",
       "    <tr>\n",
       "      <th>5</th>\n",
       "      <td>두정수바꾸어출력하기</td>\n",
       "      <td>1</td>\n",
       "      <td>1</td>\n",
       "    </tr>\n",
       "    <tr>\n",
       "      <th>6</th>\n",
       "      <td>두정수입력받기</td>\n",
       "      <td>1</td>\n",
       "      <td>1</td>\n",
       "    </tr>\n",
       "    <tr>\n",
       "      <th>7</th>\n",
       "      <td>반값이벤트</td>\n",
       "      <td>0</td>\n",
       "      <td>0</td>\n",
       "    </tr>\n",
       "    <tr>\n",
       "      <th>8</th>\n",
       "      <td>사칙연산</td>\n",
       "      <td>1</td>\n",
       "      <td>1</td>\n",
       "    </tr>\n",
       "    <tr>\n",
       "      <th>9</th>\n",
       "      <td>시간단위로변환하기</td>\n",
       "      <td>0</td>\n",
       "      <td>0</td>\n",
       "    </tr>\n",
       "  </tbody>\n",
       "</table>\n",
       "</div>"
      ],
      "text/plain": [
       "        문제 이름  multiple output prediction2\n",
       "5  두정수바꾸어출력하기                1           1\n",
       "6     두정수입력받기                1           1\n",
       "7       반값이벤트                0           0\n",
       "8        사칙연산                1           1\n",
       "9   시간단위로변환하기                0           0"
      ]
     },
     "execution_count": 94,
     "metadata": {},
     "output_type": "execute_result"
    }
   ],
   "source": [
    "result = [1, 1, 0, 1, 0]\n",
    "\n",
    "df.loc[ : ,'prediction2'][5:10] = result\n",
    "\n",
    "df.loc[:, [\"문제 이름\", \"multiple output\", \"prediction2\"]][5:10]"
   ]
  },
  {
   "cell_type": "code",
   "execution_count": 43,
   "metadata": {},
   "outputs": [
    {
     "name": "stdout",
     "output_type": "stream",
     "text": [
      "result = [0, 0, 0, 1]\n"
     ]
    }
   ],
   "source": [
    "context_query = \"The DataFrame contains the following data. \\n\\n\\n\"  + query_df[10:].to_string(index=False)\n",
    "\n",
    "query6 = question_query  + rule_query + result_query + context_query\n",
    "\n",
    "ans6 = question(query6)\n",
    "print(ans6)"
   ]
  },
  {
   "cell_type": "code",
   "execution_count": 95,
   "metadata": {},
   "outputs": [
    {
     "name": "stderr",
     "output_type": "stream",
     "text": [
      "C:\\Users\\장우진\\AppData\\Local\\Temp\\ipykernel_30660\\1591849292.py:3: SettingWithCopyWarning: \n",
      "A value is trying to be set on a copy of a slice from a DataFrame\n",
      "\n",
      "See the caveats in the documentation: https://pandas.pydata.org/pandas-docs/stable/user_guide/indexing.html#returning-a-view-versus-a-copy\n",
      "  df.loc[ : ,'prediction2'][10:] = result\n"
     ]
    },
    {
     "data": {
      "text/html": [
       "<div>\n",
       "<style scoped>\n",
       "    .dataframe tbody tr th:only-of-type {\n",
       "        vertical-align: middle;\n",
       "    }\n",
       "\n",
       "    .dataframe tbody tr th {\n",
       "        vertical-align: top;\n",
       "    }\n",
       "\n",
       "    .dataframe thead th {\n",
       "        text-align: right;\n",
       "    }\n",
       "</style>\n",
       "<table border=\"1\" class=\"dataframe\">\n",
       "  <thead>\n",
       "    <tr style=\"text-align: right;\">\n",
       "      <th></th>\n",
       "      <th>문제 이름</th>\n",
       "      <th>multiple output</th>\n",
       "      <th>prediction2</th>\n",
       "    </tr>\n",
       "  </thead>\n",
       "  <tbody>\n",
       "    <tr>\n",
       "      <th>10</th>\n",
       "      <td>원의넓이구하기</td>\n",
       "      <td>0</td>\n",
       "      <td>0</td>\n",
       "    </tr>\n",
       "    <tr>\n",
       "      <th>11</th>\n",
       "      <td>음수는0으로</td>\n",
       "      <td>0</td>\n",
       "      <td>0</td>\n",
       "    </tr>\n",
       "    <tr>\n",
       "      <th>12</th>\n",
       "      <td>정수한개입력받아부호바꿔출력하기</td>\n",
       "      <td>0</td>\n",
       "      <td>0</td>\n",
       "    </tr>\n",
       "    <tr>\n",
       "      <th>13</th>\n",
       "      <td>초를분,초단위로변환하기</td>\n",
       "      <td>1</td>\n",
       "      <td>1</td>\n",
       "    </tr>\n",
       "  </tbody>\n",
       "</table>\n",
       "</div>"
      ],
      "text/plain": [
       "               문제 이름  multiple output prediction2\n",
       "10           원의넓이구하기                0           0\n",
       "11            음수는0으로                0           0\n",
       "12  정수한개입력받아부호바꿔출력하기                0           0\n",
       "13      초를분,초단위로변환하기                1           1"
      ]
     },
     "execution_count": 95,
     "metadata": {},
     "output_type": "execute_result"
    }
   ],
   "source": [
    "result = [0, 0, 0, 1]\n",
    "\n",
    "df.loc[ : ,'prediction2'][10:] = result\n",
    "\n",
    "df.loc[:, [\"문제 이름\", \"multiple output\", \"prediction2\"]][10:]"
   ]
  },
  {
   "attachments": {},
   "cell_type": "markdown",
   "metadata": {},
   "source": [
    "conditional statement 예측"
   ]
  },
  {
   "cell_type": "code",
   "execution_count": 44,
   "metadata": {},
   "outputs": [
    {
     "name": "stdout",
     "output_type": "stream",
     "text": [
      "\n",
      "1. Question :\n",
      "The following dataframe represents the solution codes for each question.\n",
      "\n",
      "Your task is to classify the solution code for each question into binary categories according to the rules below:\n",
      "\n",
      "rule:\n",
      "If there are conditional(if) statements in each code, classify as 1, otherwise classify as 0.\n",
      "\n",
      "Example:\n",
      "1. |\n",
      "#include <cstdio>\n",
      "\n",
      "int main()\n",
      "{\n",
      "int a;\n",
      "scanf(\"%d\", &a);\n",
      "\n",
      "if (a < 10)\n",
      "{\n",
      "printf(\"hello\");\n",
      "}\n",
      "\n",
      "return 0;\n",
      "}\n",
      "| -> 1 #If statement exists\n",
      "\n",
      "2. |\n",
      "#include <cstdio>\n",
      "\n",
      "int main()\n",
      "{\n",
      "    int a,b;\n",
      "    scanf(\"%d %d\",&a,&b);\n",
      "    printf(\"%d %d\",a,b);\n",
      "    \n",
      "    return 0;\n",
      "}\n",
      "| -> 0 #If statement does not exist\n",
      "\n",
      "\n",
      "2. Answer : \n",
      "Please answer in the following example form. The list index matches each solution code.\n",
      "Example:\n",
      "result = [0, 1, ... ]\n",
      "\n",
      "The DataFrame contains the following data.\n",
      "\n",
      "0                                                                                        #include<cstdio>\\nint main(){\\nint a;\\nscanf(\"%d\", &a);\\nif (a<10){\\nprintf(\"hello\");\\n}\\n}\n",
      "1    #include <cstdio>\\nint main(){\\n    int a;\\n    scanf(\"%d\",&a);\\n    if(a<10)\\n    {\\n        printf(\"hello\");\\n    }\\n    else{\\n        printf(\"algo\");\\n    }\\n          \\n}\n",
      "2                                                               #include <cstdio>\\nint main()\\n{\\n    int a,b;\\n    scanf(\"%d %d\",&a,&b);\\n    printf(\"%d\",a-b+1);\\n    return 0;\\n}\n",
      "3           #include <cstdio>\\nint main()\\n{\\n    int a,b;\\n    scanf(\"%d %d\",&a,&b);\\n    if(a<=b){\\n        printf(\":(\");\\n    }\\n    else\\n    {\\n        printf(\":)\");\\n    }\\n}\n",
      "4         #include <cstdio>\\nint main()\\n{\\n    int a,b;\\n    scanf(\"%d %d\",&a,&b);\\n    if(a==b)\\n    {\\n        printf(\":)\");\\n    }\\n    else\\n    {\\n        printf(\":(\");\\n}\\n}\n"
     ]
    }
   ],
   "source": [
    "rule_query = \"\"\"\n",
    "rule:\n",
    "If there are conditional(if) statements in each code, classify as 1, otherwise classify as 0.\n",
    "\n",
    "Example:\n",
    "1. |\n",
    "#include <cstdio>\n",
    "\n",
    "int main()\n",
    "{\n",
    "int a;\n",
    "scanf(\"%d\", &a);\n",
    "\n",
    "if (a < 10)\n",
    "{\n",
    "printf(\"hello\");\n",
    "}\n",
    "\n",
    "return 0;\n",
    "}\n",
    "| -> 1 #If statement exists\n",
    "\n",
    "2. |\n",
    "#include <cstdio>\n",
    "\n",
    "int main()\n",
    "{\n",
    "    int a,b;\n",
    "    scanf(\"%d %d\",&a,&b);\n",
    "    printf(\"%d %d\",a,b);\n",
    "    \n",
    "    return 0;\n",
    "}\n",
    "| -> 0 #If statement does not exist\n",
    "\n",
    "\"\"\"\n",
    "\n",
    "context_query = \"The DataFrame contains the following data.\\n\\n\"  + query_df[:5].to_string()\n",
    "\n",
    "query7 = question_query  + rule_query + result_query + context_query\n",
    "\n",
    "print(query7)"
   ]
  },
  {
   "cell_type": "code",
   "execution_count": 47,
   "metadata": {},
   "outputs": [
    {
     "name": "stdout",
     "output_type": "stream",
     "text": [
      "result = [1, 1, 0, 1, 1]\n"
     ]
    }
   ],
   "source": [
    "ans7 = question(query7)\n",
    "print(ans7)"
   ]
  },
  {
   "cell_type": "code",
   "execution_count": 96,
   "metadata": {},
   "outputs": [
    {
     "name": "stderr",
     "output_type": "stream",
     "text": [
      "C:\\Users\\장우진\\AppData\\Local\\Temp\\ipykernel_30660\\2776587025.py:3: SettingWithCopyWarning: \n",
      "A value is trying to be set on a copy of a slice from a DataFrame\n",
      "\n",
      "See the caveats in the documentation: https://pandas.pydata.org/pandas-docs/stable/user_guide/indexing.html#returning-a-view-versus-a-copy\n",
      "  df.loc[ : ,'prediction3'][:5] = result\n"
     ]
    },
    {
     "data": {
      "text/html": [
       "<div>\n",
       "<style scoped>\n",
       "    .dataframe tbody tr th:only-of-type {\n",
       "        vertical-align: middle;\n",
       "    }\n",
       "\n",
       "    .dataframe tbody tr th {\n",
       "        vertical-align: top;\n",
       "    }\n",
       "\n",
       "    .dataframe thead th {\n",
       "        text-align: right;\n",
       "    }\n",
       "</style>\n",
       "<table border=\"1\" class=\"dataframe\">\n",
       "  <thead>\n",
       "    <tr style=\"text-align: right;\">\n",
       "      <th></th>\n",
       "      <th>문제 이름</th>\n",
       "      <th>conditional statement</th>\n",
       "      <th>prediction3</th>\n",
       "    </tr>\n",
       "  </thead>\n",
       "  <tbody>\n",
       "    <tr>\n",
       "      <th>0</th>\n",
       "      <td>10보다작을까?-1</td>\n",
       "      <td>1</td>\n",
       "      <td>1</td>\n",
       "    </tr>\n",
       "    <tr>\n",
       "      <th>1</th>\n",
       "      <td>10보다작을까?-2</td>\n",
       "      <td>1</td>\n",
       "      <td>1</td>\n",
       "    </tr>\n",
       "    <tr>\n",
       "      <th>2</th>\n",
       "      <td>내나이가어때서</td>\n",
       "      <td>0</td>\n",
       "      <td>0</td>\n",
       "    </tr>\n",
       "    <tr>\n",
       "      <th>3</th>\n",
       "      <td>두수비교하기(&lt;=)</td>\n",
       "      <td>1</td>\n",
       "      <td>1</td>\n",
       "    </tr>\n",
       "    <tr>\n",
       "      <th>4</th>\n",
       "      <td>두수비교하기(==)</td>\n",
       "      <td>1</td>\n",
       "      <td>1</td>\n",
       "    </tr>\n",
       "  </tbody>\n",
       "</table>\n",
       "</div>"
      ],
      "text/plain": [
       "        문제 이름  conditional statement prediction3\n",
       "0  10보다작을까?-1                      1           1\n",
       "1  10보다작을까?-2                      1           1\n",
       "2     내나이가어때서                      0           0\n",
       "3  두수비교하기(<=)                      1           1\n",
       "4  두수비교하기(==)                      1           1"
      ]
     },
     "execution_count": 96,
     "metadata": {},
     "output_type": "execute_result"
    }
   ],
   "source": [
    "result = [1, 1, 0, 1, 1]\n",
    "\n",
    "df.loc[ : ,'prediction3'][:5] = result\n",
    "\n",
    "df.loc[:, [\"문제 이름\", \"conditional statement\", \"prediction3\"]][:5]"
   ]
  },
  {
   "cell_type": "code",
   "execution_count": 51,
   "metadata": {},
   "outputs": [
    {
     "name": "stdout",
     "output_type": "stream",
     "text": [
      "result = [0, 0, 0, 1, 0]\n"
     ]
    }
   ],
   "source": [
    "context_query = \"The DataFrame contains the following data. five codes \\n\\n\\n\"  + query_df[5:10].to_string(index=False)\n",
    "\n",
    "query8 = question_query  + rule_query + result_query + context_query\n",
    "\n",
    "ans8 = question(query8)\n",
    "print(ans8)"
   ]
  },
  {
   "cell_type": "code",
   "execution_count": 97,
   "metadata": {},
   "outputs": [
    {
     "name": "stderr",
     "output_type": "stream",
     "text": [
      "C:\\Users\\장우진\\AppData\\Local\\Temp\\ipykernel_30660\\3576432193.py:3: SettingWithCopyWarning: \n",
      "A value is trying to be set on a copy of a slice from a DataFrame\n",
      "\n",
      "See the caveats in the documentation: https://pandas.pydata.org/pandas-docs/stable/user_guide/indexing.html#returning-a-view-versus-a-copy\n",
      "  df.loc[ : ,'prediction3'][5:10] = result\n"
     ]
    },
    {
     "data": {
      "text/html": [
       "<div>\n",
       "<style scoped>\n",
       "    .dataframe tbody tr th:only-of-type {\n",
       "        vertical-align: middle;\n",
       "    }\n",
       "\n",
       "    .dataframe tbody tr th {\n",
       "        vertical-align: top;\n",
       "    }\n",
       "\n",
       "    .dataframe thead th {\n",
       "        text-align: right;\n",
       "    }\n",
       "</style>\n",
       "<table border=\"1\" class=\"dataframe\">\n",
       "  <thead>\n",
       "    <tr style=\"text-align: right;\">\n",
       "      <th></th>\n",
       "      <th>문제 이름</th>\n",
       "      <th>conditional statement</th>\n",
       "      <th>prediction3</th>\n",
       "    </tr>\n",
       "  </thead>\n",
       "  <tbody>\n",
       "    <tr>\n",
       "      <th>5</th>\n",
       "      <td>두정수바꾸어출력하기</td>\n",
       "      <td>0</td>\n",
       "      <td>0</td>\n",
       "    </tr>\n",
       "    <tr>\n",
       "      <th>6</th>\n",
       "      <td>두정수입력받기</td>\n",
       "      <td>0</td>\n",
       "      <td>0</td>\n",
       "    </tr>\n",
       "    <tr>\n",
       "      <th>7</th>\n",
       "      <td>반값이벤트</td>\n",
       "      <td>0</td>\n",
       "      <td>0</td>\n",
       "    </tr>\n",
       "    <tr>\n",
       "      <th>8</th>\n",
       "      <td>사칙연산</td>\n",
       "      <td>0</td>\n",
       "      <td>1</td>\n",
       "    </tr>\n",
       "    <tr>\n",
       "      <th>9</th>\n",
       "      <td>시간단위로변환하기</td>\n",
       "      <td>0</td>\n",
       "      <td>0</td>\n",
       "    </tr>\n",
       "  </tbody>\n",
       "</table>\n",
       "</div>"
      ],
      "text/plain": [
       "        문제 이름  conditional statement prediction3\n",
       "5  두정수바꾸어출력하기                      0           0\n",
       "6     두정수입력받기                      0           0\n",
       "7       반값이벤트                      0           0\n",
       "8        사칙연산                      0           1\n",
       "9   시간단위로변환하기                      0           0"
      ]
     },
     "execution_count": 97,
     "metadata": {},
     "output_type": "execute_result"
    }
   ],
   "source": [
    "result = [0, 0, 0, 1, 0]\n",
    "\n",
    "df.loc[ : ,'prediction3'][5:10] = result\n",
    "\n",
    "df.loc[:, [\"문제 이름\", \"conditional statement\", \"prediction3\"]][5:10]"
   ]
  },
  {
   "cell_type": "code",
   "execution_count": 56,
   "metadata": {},
   "outputs": [
    {
     "name": "stdout",
     "output_type": "stream",
     "text": [
      "result = [0, 1, 0, 1]\n"
     ]
    }
   ],
   "source": [
    "context_query = \"The DataFrame contains the following data. \\n\\n\\n\"  + query_df[10:].to_string(index=False)\n",
    "\n",
    "query9 = question_query  + rule_query + result_query + context_query\n",
    "\n",
    "ans9 = question(query9)\n",
    "print(ans9)"
   ]
  },
  {
   "cell_type": "code",
   "execution_count": 98,
   "metadata": {},
   "outputs": [
    {
     "name": "stderr",
     "output_type": "stream",
     "text": [
      "C:\\Users\\장우진\\AppData\\Local\\Temp\\ipykernel_30660\\3166814064.py:3: SettingWithCopyWarning: \n",
      "A value is trying to be set on a copy of a slice from a DataFrame\n",
      "\n",
      "See the caveats in the documentation: https://pandas.pydata.org/pandas-docs/stable/user_guide/indexing.html#returning-a-view-versus-a-copy\n",
      "  df.loc[ : ,'prediction3'][10:] = result\n"
     ]
    },
    {
     "data": {
      "text/html": [
       "<div>\n",
       "<style scoped>\n",
       "    .dataframe tbody tr th:only-of-type {\n",
       "        vertical-align: middle;\n",
       "    }\n",
       "\n",
       "    .dataframe tbody tr th {\n",
       "        vertical-align: top;\n",
       "    }\n",
       "\n",
       "    .dataframe thead th {\n",
       "        text-align: right;\n",
       "    }\n",
       "</style>\n",
       "<table border=\"1\" class=\"dataframe\">\n",
       "  <thead>\n",
       "    <tr style=\"text-align: right;\">\n",
       "      <th></th>\n",
       "      <th>문제 이름</th>\n",
       "      <th>conditional statement</th>\n",
       "      <th>prediction3</th>\n",
       "    </tr>\n",
       "  </thead>\n",
       "  <tbody>\n",
       "    <tr>\n",
       "      <th>10</th>\n",
       "      <td>원의넓이구하기</td>\n",
       "      <td>0</td>\n",
       "      <td>0</td>\n",
       "    </tr>\n",
       "    <tr>\n",
       "      <th>11</th>\n",
       "      <td>음수는0으로</td>\n",
       "      <td>1</td>\n",
       "      <td>1</td>\n",
       "    </tr>\n",
       "    <tr>\n",
       "      <th>12</th>\n",
       "      <td>정수한개입력받아부호바꿔출력하기</td>\n",
       "      <td>0</td>\n",
       "      <td>0</td>\n",
       "    </tr>\n",
       "    <tr>\n",
       "      <th>13</th>\n",
       "      <td>초를분,초단위로변환하기</td>\n",
       "      <td>0</td>\n",
       "      <td>1</td>\n",
       "    </tr>\n",
       "  </tbody>\n",
       "</table>\n",
       "</div>"
      ],
      "text/plain": [
       "               문제 이름  conditional statement prediction3\n",
       "10           원의넓이구하기                      0           0\n",
       "11            음수는0으로                      1           1\n",
       "12  정수한개입력받아부호바꿔출력하기                      0           0\n",
       "13      초를분,초단위로변환하기                      0           1"
      ]
     },
     "execution_count": 98,
     "metadata": {},
     "output_type": "execute_result"
    }
   ],
   "source": [
    "result = [0, 1, 0, 1]\n",
    "\n",
    "df.loc[ : ,'prediction3'][10:] = result\n",
    "\n",
    "df.loc[:, [\"문제 이름\", \"conditional statement\", \"prediction3\"]][10:]"
   ]
  },
  {
   "attachments": {},
   "cell_type": "markdown",
   "metadata": {},
   "source": [
    "mathematical calculation 예측"
   ]
  },
  {
   "cell_type": "code",
   "execution_count": 74,
   "metadata": {},
   "outputs": [
    {
     "name": "stdout",
     "output_type": "stream",
     "text": [
      "\n",
      "1. Question :\n",
      "The following dataframe represents the solution codes for each question.\n",
      "\n",
      "Your task is to classify the solution code for each question into binary categories according to the rules below:\n",
      "\n",
      "rule:\n",
      "If there exist arithmetic operations (+, -, *, /, %), classify as 1 otherwise classify as 0.\n",
      "\n",
      "Example:\n",
      "1. printf(\"%d\",a*8); | -> 1\n",
      "2. printf(\"%d %d\",a ,a*b); | -> 1\n",
      "3. q = a + 5; | -> 1\n",
      "\n",
      "\n",
      "\n",
      "2. Answer : \n",
      "You only need to answer the classification results, and the format of the results is as shown in the list below. The list index matches each solution code.\n",
      "Example:\n",
      "result = [0, 1, ... ]\n",
      "\n",
      "The DataFrame contains the following data.\n",
      "\n",
      "0                                                                                        #include<cstdio>\\nint main(){\\nint a;\\nscanf(\"%d\", &a);\\nif (a<10){\\nprintf(\"hello\");\\n}\\n}\n",
      "1    #include <cstdio>\\nint main(){\\n    int a;\\n    scanf(\"%d\",&a);\\n    if(a<10)\\n    {\\n        printf(\"hello\");\\n    }\\n    else{\\n        printf(\"algo\");\\n    }\\n          \\n}\n",
      "2                                                               #include <cstdio>\\nint main()\\n{\\n    int a,b;\\n    scanf(\"%d %d\",&a,&b);\\n    printf(\"%d\",a-b+1);\\n    return 0;\\n}\n",
      "3           #include <cstdio>\\nint main()\\n{\\n    int a,b;\\n    scanf(\"%d %d\",&a,&b);\\n    if(a<=b){\\n        printf(\":(\");\\n    }\\n    else\\n    {\\n        printf(\":)\");\\n    }\\n}\n",
      "4         #include <cstdio>\\nint main()\\n{\\n    int a,b;\\n    scanf(\"%d %d\",&a,&b);\\n    if(a==b)\\n    {\\n        printf(\":)\");\\n    }\\n    else\\n    {\\n        printf(\":(\");\\n}\\n}\n"
     ]
    }
   ],
   "source": [
    "rule_query = \"\"\"\n",
    "rule:\n",
    "If there exist arithmetic operations (+, -, *, /, %), classify as 1 otherwise classify as 0.\n",
    "\n",
    "Example:\n",
    "1. printf(\"%d\",a*8); | -> 1\n",
    "2. printf(\"%d %d\",a ,a*b); | -> 1\n",
    "3. q = a + 5; | -> 1\n",
    "\n",
    "\n",
    "\"\"\"\n",
    "\n",
    "context_query = \"The DataFrame contains the following data.\\n\\n\"  + query_df[:5].to_string()\n",
    "\n",
    "query10 = question_query  + rule_query + result_query + context_query\n",
    "\n",
    "print(query10)"
   ]
  },
  {
   "cell_type": "code",
   "execution_count": 78,
   "metadata": {},
   "outputs": [
    {
     "name": "stdout",
     "output_type": "stream",
     "text": [
      "result = [0, 0, 1, 1, 1]\n"
     ]
    }
   ],
   "source": [
    "ans10 = question(query10)\n",
    "print(ans10)"
   ]
  },
  {
   "cell_type": "code",
   "execution_count": 99,
   "metadata": {},
   "outputs": [
    {
     "name": "stderr",
     "output_type": "stream",
     "text": [
      "C:\\Users\\장우진\\AppData\\Local\\Temp\\ipykernel_30660\\1446527431.py:3: SettingWithCopyWarning: \n",
      "A value is trying to be set on a copy of a slice from a DataFrame\n",
      "\n",
      "See the caveats in the documentation: https://pandas.pydata.org/pandas-docs/stable/user_guide/indexing.html#returning-a-view-versus-a-copy\n",
      "  df.loc[ : ,'prediction4'][:5] = result\n"
     ]
    },
    {
     "data": {
      "text/html": [
       "<div>\n",
       "<style scoped>\n",
       "    .dataframe tbody tr th:only-of-type {\n",
       "        vertical-align: middle;\n",
       "    }\n",
       "\n",
       "    .dataframe tbody tr th {\n",
       "        vertical-align: top;\n",
       "    }\n",
       "\n",
       "    .dataframe thead th {\n",
       "        text-align: right;\n",
       "    }\n",
       "</style>\n",
       "<table border=\"1\" class=\"dataframe\">\n",
       "  <thead>\n",
       "    <tr style=\"text-align: right;\">\n",
       "      <th></th>\n",
       "      <th>문제 이름</th>\n",
       "      <th>mathematical calculation</th>\n",
       "      <th>prediction4</th>\n",
       "    </tr>\n",
       "  </thead>\n",
       "  <tbody>\n",
       "    <tr>\n",
       "      <th>0</th>\n",
       "      <td>10보다작을까?-1</td>\n",
       "      <td>0</td>\n",
       "      <td>0</td>\n",
       "    </tr>\n",
       "    <tr>\n",
       "      <th>1</th>\n",
       "      <td>10보다작을까?-2</td>\n",
       "      <td>0</td>\n",
       "      <td>0</td>\n",
       "    </tr>\n",
       "    <tr>\n",
       "      <th>2</th>\n",
       "      <td>내나이가어때서</td>\n",
       "      <td>1</td>\n",
       "      <td>1</td>\n",
       "    </tr>\n",
       "    <tr>\n",
       "      <th>3</th>\n",
       "      <td>두수비교하기(&lt;=)</td>\n",
       "      <td>0</td>\n",
       "      <td>1</td>\n",
       "    </tr>\n",
       "    <tr>\n",
       "      <th>4</th>\n",
       "      <td>두수비교하기(==)</td>\n",
       "      <td>0</td>\n",
       "      <td>1</td>\n",
       "    </tr>\n",
       "  </tbody>\n",
       "</table>\n",
       "</div>"
      ],
      "text/plain": [
       "        문제 이름  mathematical calculation prediction4\n",
       "0  10보다작을까?-1                         0           0\n",
       "1  10보다작을까?-2                         0           0\n",
       "2     내나이가어때서                         1           1\n",
       "3  두수비교하기(<=)                         0           1\n",
       "4  두수비교하기(==)                         0           1"
      ]
     },
     "execution_count": 99,
     "metadata": {},
     "output_type": "execute_result"
    }
   ],
   "source": [
    "result = [0, 0, 1, 1, 1]\n",
    "\n",
    "df.loc[ : ,'prediction4'][:5] = result\n",
    "\n",
    "df.loc[:, [\"문제 이름\", \"mathematical calculation\", \"prediction4\"]][:5]"
   ]
  },
  {
   "cell_type": "code",
   "execution_count": 82,
   "metadata": {},
   "outputs": [
    {
     "name": "stdout",
     "output_type": "stream",
     "text": [
      "To classify the solution codes into binary categories, we can use regular expressions to check if any arithmetic operations (+, -, *, /, %) exist in each code. Here's the code to perform the classification:\n",
      "\n",
      "```python\n",
      "import re\n",
      "\n",
      "# Solution codes\n",
      "solution_codes = [\n",
      "    '#include <cstdio>\\n\\nint main()\\n{\\nint a,b;\\n\\nscanf(\"%d %d\", &a,&b);\\nprintf(\"%d %d\", b,a);\\n\\nreturn 0;\\n}',\n",
      "    '#include <cstdio>\\n\\nint main()\\n{\\nint a,b;\\n\\nscanf(\"%d %d\", &a,&b);\\nprintf(\"%d %d\", a,b);\\n\\nreturn 0;\\n}',\n",
      "    '#include <cstdio>\\nint main()\\n{\\n    int a,b;\\n    scanf(\"%d %d\",&a,&b);\\n    printf(\"%d\",a+b/2);\\n    return 0;\\n}',\n",
      "    '#include <cstdio>\\n\\nint main()\\n{\\n    int a,b;\\n    scanf(\"%d %d\",&a,&b);\\n    printf(\"%d+%d=%d \\n\",a,b,a+b);\\n    printf(\"%d-%d=%d \\n\",a,b,a-b);\\n    printf(\"%d*%d=%d \\n\",a,b,a*b);\\n    printf(\"%d/%d=%d \\n\",a,b,a/b);\\n    return 0;\\n}',\n",
      "    '#include <cstdio>\\nint main()\\n{\\n    int a;\\n    scanf(\"%d\",&a);\\n    printf(\"%d\",a*24);\\n    return 0;\\n}'\n",
      "]\n",
      "\n",
      "# Classification results\n",
      "results = []\n",
      "\n",
      "# Regular expression pattern to match arithmetic operations\n",
      "pattern = r'[+\\-*/%]'\n",
      "\n",
      "for code in solution_codes:\n",
      "    if re.search(pattern, code):\n",
      "        results.append(1)\n",
      "    else:\n",
      "        results.append(0)\n",
      "\n",
      "print(results)\n",
      "```\n",
      "\n",
      "The output will be:\n",
      "```\n",
      "[0, 0, 1, 1, 0]\n",
      "```\n",
      "\n",
      "This means that the first two solution codes do not contain any arithmetic operations, while the last three solution codes do contain arithmetic operations.\n"
     ]
    }
   ],
   "source": [
    "context_query = \"The DataFrame contains the following data. five codes \\n\\n\\n\"  + query_df[5:10].to_string(index=False)\n",
    "\n",
    "query11 = question_query  + rule_query + result_query + context_query\n",
    "\n",
    "ans11 = question(query11)\n",
    "print(ans11)"
   ]
  },
  {
   "cell_type": "code",
   "execution_count": 100,
   "metadata": {},
   "outputs": [
    {
     "name": "stderr",
     "output_type": "stream",
     "text": [
      "C:\\Users\\장우진\\AppData\\Local\\Temp\\ipykernel_30660\\1113929773.py:3: SettingWithCopyWarning: \n",
      "A value is trying to be set on a copy of a slice from a DataFrame\n",
      "\n",
      "See the caveats in the documentation: https://pandas.pydata.org/pandas-docs/stable/user_guide/indexing.html#returning-a-view-versus-a-copy\n",
      "  df.loc[ : ,'prediction4'][5:10] = result\n"
     ]
    },
    {
     "data": {
      "text/html": [
       "<div>\n",
       "<style scoped>\n",
       "    .dataframe tbody tr th:only-of-type {\n",
       "        vertical-align: middle;\n",
       "    }\n",
       "\n",
       "    .dataframe tbody tr th {\n",
       "        vertical-align: top;\n",
       "    }\n",
       "\n",
       "    .dataframe thead th {\n",
       "        text-align: right;\n",
       "    }\n",
       "</style>\n",
       "<table border=\"1\" class=\"dataframe\">\n",
       "  <thead>\n",
       "    <tr style=\"text-align: right;\">\n",
       "      <th></th>\n",
       "      <th>문제 이름</th>\n",
       "      <th>mathematical calculation</th>\n",
       "      <th>prediction4</th>\n",
       "    </tr>\n",
       "  </thead>\n",
       "  <tbody>\n",
       "    <tr>\n",
       "      <th>5</th>\n",
       "      <td>두정수바꾸어출력하기</td>\n",
       "      <td>0</td>\n",
       "      <td>0</td>\n",
       "    </tr>\n",
       "    <tr>\n",
       "      <th>6</th>\n",
       "      <td>두정수입력받기</td>\n",
       "      <td>0</td>\n",
       "      <td>0</td>\n",
       "    </tr>\n",
       "    <tr>\n",
       "      <th>7</th>\n",
       "      <td>반값이벤트</td>\n",
       "      <td>1</td>\n",
       "      <td>1</td>\n",
       "    </tr>\n",
       "    <tr>\n",
       "      <th>8</th>\n",
       "      <td>사칙연산</td>\n",
       "      <td>1</td>\n",
       "      <td>1</td>\n",
       "    </tr>\n",
       "    <tr>\n",
       "      <th>9</th>\n",
       "      <td>시간단위로변환하기</td>\n",
       "      <td>1</td>\n",
       "      <td>0</td>\n",
       "    </tr>\n",
       "  </tbody>\n",
       "</table>\n",
       "</div>"
      ],
      "text/plain": [
       "        문제 이름  mathematical calculation prediction4\n",
       "5  두정수바꾸어출력하기                         0           0\n",
       "6     두정수입력받기                         0           0\n",
       "7       반값이벤트                         1           1\n",
       "8        사칙연산                         1           1\n",
       "9   시간단위로변환하기                         1           0"
      ]
     },
     "execution_count": 100,
     "metadata": {},
     "output_type": "execute_result"
    }
   ],
   "source": [
    "result = [0, 0, 1, 1, 0]\n",
    "\n",
    "df.loc[ : ,'prediction4'][5:10] = result\n",
    "\n",
    "df.loc[:, [\"문제 이름\", \"mathematical calculation\", \"prediction4\"]][5:10]"
   ]
  },
  {
   "cell_type": "code",
   "execution_count": 86,
   "metadata": {},
   "outputs": [
    {
     "name": "stdout",
     "output_type": "stream",
     "text": [
      "The classification results for each solution code are as follows:\n",
      "\n",
      "1. printf(\"%.2f\",r*r*3.14); -> 1\n",
      "2. if(n<0) { printf(\"0\"); } else { printf(\"%d\",n); } -> 1\n",
      "3. printf(\"%d\", -a); -> 1\n",
      "4. printf(\"%d %d\",a/60,a%60); -> 1\n",
      "\n",
      "Therefore, the result list is [1, 1, 1, 1].\n"
     ]
    }
   ],
   "source": [
    "context_query = \"The DataFrame contains the following data. \\n\\n\\n\"  + query_df[10:].to_string(index=False)\n",
    "\n",
    "query12 = question_query  + rule_query + result_query + context_query\n",
    "\n",
    "ans12 = question(query12)\n",
    "print(ans12)"
   ]
  },
  {
   "cell_type": "code",
   "execution_count": 101,
   "metadata": {},
   "outputs": [
    {
     "name": "stderr",
     "output_type": "stream",
     "text": [
      "C:\\Users\\장우진\\AppData\\Local\\Temp\\ipykernel_30660\\2820355841.py:3: SettingWithCopyWarning: \n",
      "A value is trying to be set on a copy of a slice from a DataFrame\n",
      "\n",
      "See the caveats in the documentation: https://pandas.pydata.org/pandas-docs/stable/user_guide/indexing.html#returning-a-view-versus-a-copy\n",
      "  df.loc[ : ,'prediction4'][10:] = result\n"
     ]
    },
    {
     "data": {
      "text/html": [
       "<div>\n",
       "<style scoped>\n",
       "    .dataframe tbody tr th:only-of-type {\n",
       "        vertical-align: middle;\n",
       "    }\n",
       "\n",
       "    .dataframe tbody tr th {\n",
       "        vertical-align: top;\n",
       "    }\n",
       "\n",
       "    .dataframe thead th {\n",
       "        text-align: right;\n",
       "    }\n",
       "</style>\n",
       "<table border=\"1\" class=\"dataframe\">\n",
       "  <thead>\n",
       "    <tr style=\"text-align: right;\">\n",
       "      <th></th>\n",
       "      <th>문제 이름</th>\n",
       "      <th>mathematical calculation</th>\n",
       "      <th>prediction4</th>\n",
       "    </tr>\n",
       "  </thead>\n",
       "  <tbody>\n",
       "    <tr>\n",
       "      <th>10</th>\n",
       "      <td>원의넓이구하기</td>\n",
       "      <td>1</td>\n",
       "      <td>1</td>\n",
       "    </tr>\n",
       "    <tr>\n",
       "      <th>11</th>\n",
       "      <td>음수는0으로</td>\n",
       "      <td>0</td>\n",
       "      <td>1</td>\n",
       "    </tr>\n",
       "    <tr>\n",
       "      <th>12</th>\n",
       "      <td>정수한개입력받아부호바꿔출력하기</td>\n",
       "      <td>1</td>\n",
       "      <td>1</td>\n",
       "    </tr>\n",
       "    <tr>\n",
       "      <th>13</th>\n",
       "      <td>초를분,초단위로변환하기</td>\n",
       "      <td>1</td>\n",
       "      <td>1</td>\n",
       "    </tr>\n",
       "  </tbody>\n",
       "</table>\n",
       "</div>"
      ],
      "text/plain": [
       "               문제 이름  mathematical calculation prediction4\n",
       "10           원의넓이구하기                         1           1\n",
       "11            음수는0으로                         0           1\n",
       "12  정수한개입력받아부호바꿔출력하기                         1           1\n",
       "13      초를분,초단위로변환하기                         1           1"
      ]
     },
     "execution_count": 101,
     "metadata": {},
     "output_type": "execute_result"
    }
   ],
   "source": [
    "result = [1, 1, 1, 1]\n",
    "\n",
    "df.loc[ : ,'prediction4'][10:] = result\n",
    "\n",
    "df.loc[:, [\"문제 이름\", \"mathematical calculation\", \"prediction4\"]][10:]"
   ]
  },
  {
   "attachments": {},
   "cell_type": "markdown",
   "metadata": {},
   "source": [
    "정확도 평가"
   ]
  },
  {
   "cell_type": "code",
   "execution_count": 102,
   "metadata": {},
   "outputs": [
    {
     "name": "stdout",
     "output_type": "stream",
     "text": [
      " multiple input  multiple output  conditional statement  mathematical calculation prediction1 prediction2 prediction3 prediction4\n",
      "              0                0                      1                         0           0           0           1           0\n",
      "              0                0                      1                         0           0           0           1           0\n",
      "              1                0                      0                         1           1           0           0           1\n",
      "              1                0                      1                         0           1           0           1           1\n",
      "              1                0                      1                         0           1           0           1           1\n",
      "              1                1                      0                         0           1           1           0           0\n",
      "              1                1                      0                         0           1           1           0           0\n",
      "              1                0                      0                         1           0           0           0           1\n",
      "              1                1                      0                         1           1           1           1           1\n",
      "              0                0                      0                         1           0           0           0           0\n",
      "              0                0                      0                         1           0           0           0           1\n",
      "              0                0                      1                         0           0           0           1           1\n",
      "              0                0                      0                         1           0           0           0           1\n",
      "              0                1                      0                         1           1           1           1           1\n"
     ]
    }
   ],
   "source": [
    "df_copy = df\n",
    "df_copy = df_copy.drop([\"문제 이름\", \"정답 코드\"], axis=1)\n",
    "\n",
    "print(df_copy.to_string(index=False))"
   ]
  },
  {
   "cell_type": "code",
   "execution_count": 103,
   "metadata": {},
   "outputs": [],
   "source": [
    "# 정확도 평가 함수\n",
    "def calculate_accuracy(predictions, targets):\n",
    "    return (predictions == targets).mean()"
   ]
  },
  {
   "cell_type": "code",
   "execution_count": 104,
   "metadata": {},
   "outputs": [
    {
     "name": "stdout",
     "output_type": "stream",
     "text": [
      "Accuracy for multiple input: 0.86\n",
      "Accuracy for multiple output: 1.00\n",
      "Accuracy for conditional statement: 0.86\n",
      "Accuracy for mathematical calculation: 0.71\n"
     ]
    }
   ],
   "source": [
    "# 각 항목에 대한 정확도 평가\n",
    "accuracy1 = calculate_accuracy(df['prediction1'], df['multiple input'])\n",
    "accuracy2 = calculate_accuracy(df['prediction2'], df['multiple output'])\n",
    "accuracy3 = calculate_accuracy(df['prediction3'], df['conditional statement'])\n",
    "accuracy4 = calculate_accuracy(df['prediction4'], df['mathematical calculation'])\n",
    "\n",
    "print(f\"Accuracy for multiple input: {accuracy1:.2f}\")\n",
    "print(f\"Accuracy for multiple output: {accuracy2:.2f}\")\n",
    "print(f\"Accuracy for conditional statement: {accuracy3:.2f}\")\n",
    "print(f\"Accuracy for mathematical calculation: {accuracy4:.2f}\")"
   ]
  },
  {
   "cell_type": "code",
   "execution_count": 114,
   "metadata": {},
   "outputs": [
    {
     "name": "stdout",
     "output_type": "stream",
     "text": [
      "Average Accuracy: 0.86\n"
     ]
    }
   ],
   "source": [
    "# 정확도 평균 계산\n",
    "average_accuracy = (accuracy1 + accuracy2 + accuracy3 + accuracy4) / 4\n",
    "\n",
    "print(f\"Average Accuracy: {average_accuracy:.2f}\")"
   ]
  },
  {
   "cell_type": "code",
   "execution_count": 28,
   "metadata": {},
   "outputs": [],
   "source": [
    "df.to_excel('../문제별정답코드(예측포함).xlsx', index=False, engine='openpyxl')"
   ]
  }
 ],
 "metadata": {
  "kernelspec": {
   "display_name": "Python 3",
   "language": "python",
   "name": "python3"
  },
  "language_info": {
   "codemirror_mode": {
    "name": "ipython",
    "version": 3
   },
   "file_extension": ".py",
   "mimetype": "text/x-python",
   "name": "python",
   "nbconvert_exporter": "python",
   "pygments_lexer": "ipython3",
   "version": "3.9.5"
  },
  "orig_nbformat": 4
 },
 "nbformat": 4,
 "nbformat_minor": 2
}
